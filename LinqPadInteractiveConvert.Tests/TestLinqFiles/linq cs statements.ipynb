{
 "cells": [
  {
   "cell_type": "code",
   "execution_count": null,
   "metadata": {
    "dotnet_interactive": {
     "language": "csharp"
    }
   },
   "outputs": [],
   "source": [
    "#r \"nuget:FlysEngine.Desktop\"\r\n",
    "#r \"nuget:Rock.Core.Newtonsoft, 0.9.1\"\r\n",
    "#r \"nuget: LINQPad.Runtime\"\r\n",
    "using Rock.Serialization;\r\n",
    "using SharpDX.Mathematics.Interop;\r\n",
    "using SharpDX.Multimedia;\r\n",
    "using SharpDX.Text;\r\n",
    "using SharpDX.Win32;\r\n",
    "using System;\r\n",
    "using System.Collections;\r\n",
    "using System.Collections.Generic;\r\n",
    "using System.Data;\r\n",
    "using System.Diagnostics;\r\n",
    "using System.IO;\r\n",
    "using System.Linq;\r\n",
    "using System.Linq.Expressions;\r\n",
    "using System.Reflection;\r\n",
    "using System.Text;\r\n",
    "using System.Text.RegularExpressions;\r\n",
    "using System.Threading;\r\n",
    "using System.Transactions;\r\n",
    "using System.Xml;\r\n",
    "using System.Xml.Linq;\r\n",
    "using System.Xml.XPath;\r\n",
    "using LINQPad;\r\n",
    "using Microsoft.AspNetCore.Html;\r\n",
    "public static T Dump<T>(this T objectToSerialize)\r\n",
    "{\r\n",
    "    var writer = LINQPad.Util.CreateXhtmlWriter(true);\r\n",
    "    writer.Write(objectToSerialize);\r\n",
    "    string strHTML = writer.ToString();\r\n",
    "\r\n",
    "    display(new HtmlString(strHTML.Replace(\"background:white\", \"\").Replace(\";background-color:white\", \"\").Replace(\"background-color:#ddd;\", \"\")));\r\n",
    "    return objectToSerialize;\r\n",
    "}\r\n",
    "\r\n",
    "public static T Dump<T>(this T objectToSerialize, string heading)\r\n",
    "{\r\n",
    "    Util.WithHeading(objectToSerialize, heading).Dump();\r\n",
    "    return objectToSerialize;\r\n",
    "}\r\n"
   ]
  },
  {
   "cell_type": "code",
   "execution_count": null,
   "metadata": {
    "dotnet_interactive": {
     "language": "csharp"
    }
   },
   "outputs": [],
   "source": [
    "Main();\r\n",
    "void Main()\r\n",
    "{\r\n",
    "\tvar x = new Dictionary<string,string>();\r\n",
    "\tDictionarySetter(x);\r\n",
    "\tx.Dump(\"asdf2\");\r\n",
    "}\r\n",
    "\r\n",
    "void DictionarySetter(Dictionary<string,string> x){\r\n",
    "\tx[\"asdf\"] =\"adfgadfg\";\r\n",
    "}\r\n",
    "// You can define other methods, fields, classes and namespaces here"
   ]
  }
 ],
 "metadata": {
  "kernelspec": {
   "display_name": ".NET (C#)",
   "language": "C#",
   "name": ".net-csharp"
  },
  "language_info": {
   "file_extension": ".cs",
   "mimetype": "text/x-csharp",
   "name": "C#",
   "pygments_lexer": "csharp",
   "version": "8.0"
  }
 },
 "nbformat": 4,
 "nbformat_minor": 5
}